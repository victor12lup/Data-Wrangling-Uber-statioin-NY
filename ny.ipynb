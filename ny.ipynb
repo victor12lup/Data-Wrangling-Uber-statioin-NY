{
 "cells": [
  {
   "cell_type": "code",
   "execution_count": 2,
   "metadata": {
    "colab": {
     "base_uri": "https://localhost:8080/"
    },
    "executionInfo": {
     "elapsed": 40166,
     "status": "ok",
     "timestamp": 1611497710094,
     "user": {
      "displayName": "TheOceanAM",
      "photoUrl": "",
      "userId": "13000255940929104667"
     },
     "user_tz": -60
    },
    "id": "l73pZlCrCYOZ",
    "outputId": "7f37aa3f-8ea1-4564-e530-3fff28aa3cc8"
   },
   "outputs": [
    {
     "name": "stdout",
     "output_type": "stream",
     "text": [
      "Mounted at /content/drive\n"
     ]
    }
   ],
   "source": [
    "from google.colab import drive\n",
    "drive.mount(\"/content/drive\")"
   ]
  },
  {
   "cell_type": "code",
   "execution_count": 3,
   "metadata": {
    "colab": {
     "base_uri": "https://localhost:8080/"
    },
    "executionInfo": {
     "elapsed": 16991,
     "status": "ok",
     "timestamp": 1611497730841,
     "user": {
      "displayName": "TheOceanAM",
      "photoUrl": "",
      "userId": "13000255940929104667"
     },
     "user_tz": -60
    },
    "id": "OVLIoVCzC8TI",
    "outputId": "e4062a1e-6cc3-4c59-dd49-6cc381d2216a"
   },
   "outputs": [
    {
     "name": "stdout",
     "output_type": "stream",
     "text": [
      "Collecting geopandas\n",
      "\u001b[?25l  Downloading https://files.pythonhosted.org/packages/f7/a4/e66aafbefcbb717813bf3a355c8c4fc3ed04ea1dd7feb2920f2f4f868921/geopandas-0.8.1-py2.py3-none-any.whl (962kB)\n",
      "\u001b[K     |████████████████████████████████| 972kB 6.7MB/s \n",
      "\u001b[?25hCollecting pyproj>=2.2.0\n",
      "\u001b[?25l  Downloading https://files.pythonhosted.org/packages/e4/ab/280e80a67cfc109d15428c0ec56391fc03a65857b7727cf4e6e6f99a4204/pyproj-3.0.0.post1-cp36-cp36m-manylinux2010_x86_64.whl (6.4MB)\n",
      "\u001b[K     |████████████████████████████████| 6.5MB 11.8MB/s \n",
      "\u001b[?25hRequirement already satisfied, skipping upgrade: pandas>=0.23.0 in /usr/local/lib/python3.6/dist-packages (from geopandas) (1.1.5)\n",
      "Requirement already satisfied, skipping upgrade: shapely in /usr/local/lib/python3.6/dist-packages (from geopandas) (1.7.1)\n",
      "Collecting fiona\n",
      "\u001b[?25l  Downloading https://files.pythonhosted.org/packages/37/94/4910fd55246c1d963727b03885ead6ef1cd3748a465f7b0239ab25dfc9a3/Fiona-1.8.18-cp36-cp36m-manylinux1_x86_64.whl (14.8MB)\n",
      "\u001b[K     |████████████████████████████████| 14.8MB 327kB/s \n",
      "\u001b[?25hRequirement already satisfied, skipping upgrade: certifi in /usr/local/lib/python3.6/dist-packages (from pyproj>=2.2.0->geopandas) (2020.12.5)\n",
      "Requirement already satisfied, skipping upgrade: pytz>=2017.2 in /usr/local/lib/python3.6/dist-packages (from pandas>=0.23.0->geopandas) (2018.9)\n",
      "Requirement already satisfied, skipping upgrade: python-dateutil>=2.7.3 in /usr/local/lib/python3.6/dist-packages (from pandas>=0.23.0->geopandas) (2.8.1)\n",
      "Requirement already satisfied, skipping upgrade: numpy>=1.15.4 in /usr/local/lib/python3.6/dist-packages (from pandas>=0.23.0->geopandas) (1.19.5)\n",
      "Requirement already satisfied, skipping upgrade: six>=1.7 in /usr/local/lib/python3.6/dist-packages (from fiona->geopandas) (1.15.0)\n",
      "Requirement already satisfied, skipping upgrade: click<8,>=4.0 in /usr/local/lib/python3.6/dist-packages (from fiona->geopandas) (7.1.2)\n",
      "Collecting cligj>=0.5\n",
      "  Downloading https://files.pythonhosted.org/packages/42/1e/947eadf10d6804bf276eb8a038bd5307996dceaaa41cfd21b7a15ec62f5d/cligj-0.7.1-py3-none-any.whl\n",
      "Collecting munch\n",
      "  Downloading https://files.pythonhosted.org/packages/cc/ab/85d8da5c9a45e072301beb37ad7f833cd344e04c817d97e0cc75681d248f/munch-2.5.0-py2.py3-none-any.whl\n",
      "Requirement already satisfied, skipping upgrade: attrs>=17 in /usr/local/lib/python3.6/dist-packages (from fiona->geopandas) (20.3.0)\n",
      "Collecting click-plugins>=1.0\n",
      "  Downloading https://files.pythonhosted.org/packages/e9/da/824b92d9942f4e472702488857914bdd50f73021efea15b4cad9aca8ecef/click_plugins-1.1.1-py2.py3-none-any.whl\n",
      "Installing collected packages: pyproj, cligj, munch, click-plugins, fiona, geopandas\n",
      "Successfully installed click-plugins-1.1.1 cligj-0.7.1 fiona-1.8.18 geopandas-0.8.1 munch-2.5.0 pyproj-3.0.0.post1\n",
      "Collecting pyshp\n",
      "\u001b[?25l  Downloading https://files.pythonhosted.org/packages/38/85/fbf87e7aa55103e0d06af756bdbc15cf821fa580414c23142d60a35d4f85/pyshp-2.1.3.tar.gz (219kB)\n",
      "\u001b[K     |████████████████████████████████| 225kB 8.0MB/s \n",
      "\u001b[?25hBuilding wheels for collected packages: pyshp\n",
      "  Building wheel for pyshp (setup.py) ... \u001b[?25l\u001b[?25hdone\n",
      "  Created wheel for pyshp: filename=pyshp-2.1.3-cp36-none-any.whl size=37264 sha256=cad93a31558106056e60c0152310de83c90812a3de3e517b3e1a53b84cd48beb\n",
      "  Stored in directory: /root/.cache/pip/wheels/76/2b/d4/53e6b9a0fb0a9f9f29664cf82605af8bc81d5ab44d987896dd\n",
      "Successfully built pyshp\n",
      "Installing collected packages: pyshp\n",
      "Successfully installed pyshp-2.1.3\n",
      "Requirement already up-to-date: shapely in /usr/local/lib/python3.6/dist-packages (1.7.1)\n",
      "Requirement already up-to-date: descartes in /usr/local/lib/python3.6/dist-packages (1.1.0)\n",
      "Requirement already satisfied, skipping upgrade: matplotlib in /usr/local/lib/python3.6/dist-packages (from descartes) (3.2.2)\n",
      "Requirement already satisfied, skipping upgrade: cycler>=0.10 in /usr/local/lib/python3.6/dist-packages (from matplotlib->descartes) (0.10.0)\n",
      "Requirement already satisfied, skipping upgrade: numpy>=1.11 in /usr/local/lib/python3.6/dist-packages (from matplotlib->descartes) (1.19.5)\n",
      "Requirement already satisfied, skipping upgrade: kiwisolver>=1.0.1 in /usr/local/lib/python3.6/dist-packages (from matplotlib->descartes) (1.3.1)\n",
      "Requirement already satisfied, skipping upgrade: python-dateutil>=2.1 in /usr/local/lib/python3.6/dist-packages (from matplotlib->descartes) (2.8.1)\n",
      "Requirement already satisfied, skipping upgrade: pyparsing!=2.0.4,!=2.1.2,!=2.1.6,>=2.0.1 in /usr/local/lib/python3.6/dist-packages (from matplotlib->descartes) (2.4.7)\n",
      "Requirement already satisfied, skipping upgrade: six in /usr/local/lib/python3.6/dist-packages (from cycler>=0.10->matplotlib->descartes) (1.15.0)\n"
     ]
    }
   ],
   "source": [
    "!pip install --upgrade geopandas\n",
    "!pip install --upgrade pyshp\n",
    "!pip install --upgrade shapely\n",
    "!pip install --upgrade descartes\n",
    "import pandas as pd\n"
   ]
  },
  {
   "cell_type": "code",
   "execution_count": 2,
   "metadata": {
    "executionInfo": {
     "elapsed": 4175,
     "status": "ok",
     "timestamp": 1611497737251,
     "user": {
      "displayName": "TheOceanAM",
      "photoUrl": "",
      "userId": "13000255940929104667"
     },
     "user_tz": -60
    },
    "id": "Amqmmt2AEXtC"
   },
   "outputs": [],
   "source": [
    "import numpy as np\n",
    "import pandas as pd\n",
    "import json\n",
    "import os\n",
    "import seaborn as sns\n",
    "from pandas.tseries.offsets import *\n",
    "from datetime import datetime, timedelta\n",
    "import matplotlib.pyplot as plt\n",
    "import geopandas as gpd\n",
    "from shapely.geometry import Point, Polygon\n",
    "from geopandas import GeoSeries\n",
    "from pyproj import CRS\n",
    "import fiona \n",
    "from sklearn.cluster import KMeans ,MiniBatchKMeans\n",
    "import seaborn as sns; sns.set()\n",
    "import csv\n",
    "pd.options.display.max_rows = 10\n",
    "np.set_printoptions(precision=4, suppress=True)"
   ]
  },
  {
   "cell_type": "code",
   "execution_count": 5,
   "metadata": {
    "colab": {
     "base_uri": "https://localhost:8080/",
     "height": 204
    },
    "executionInfo": {
     "elapsed": 3075,
     "status": "ok",
     "timestamp": 1611497743653,
     "user": {
      "displayName": "TheOceanAM",
      "photoUrl": "",
      "userId": "13000255940929104667"
     },
     "user_tz": -60
    },
    "id": "t2pfJVRIDA9W",
    "outputId": "980355a9-dee8-4c9b-8ebb-7c5eb313fe30"
   },
   "outputs": [
    {
     "data": {
      "text/html": [
       "<div>\n",
       "<style scoped>\n",
       "    .dataframe tbody tr th:only-of-type {\n",
       "        vertical-align: middle;\n",
       "    }\n",
       "\n",
       "    .dataframe tbody tr th {\n",
       "        vertical-align: top;\n",
       "    }\n",
       "\n",
       "    .dataframe thead th {\n",
       "        text-align: right;\n",
       "    }\n",
       "</style>\n",
       "<table border=\"1\" class=\"dataframe\">\n",
       "  <thead>\n",
       "    <tr style=\"text-align: right;\">\n",
       "      <th></th>\n",
       "      <th>geometry</th>\n",
       "    </tr>\n",
       "  </thead>\n",
       "  <tbody>\n",
       "    <tr>\n",
       "      <th>0</th>\n",
       "      <td>MULTIPOLYGON (((117.70361 4.16341, 117.70361 4...</td>\n",
       "    </tr>\n",
       "    <tr>\n",
       "      <th>1</th>\n",
       "      <td>MULTIPOLYGON (((117.70361 4.16341, 117.69711 4...</td>\n",
       "    </tr>\n",
       "    <tr>\n",
       "      <th>2</th>\n",
       "      <td>MULTIPOLYGON (((-69.51009 -17.50659, -69.50611...</td>\n",
       "    </tr>\n",
       "    <tr>\n",
       "      <th>3</th>\n",
       "      <td>POLYGON ((-69.51009 -17.50659, -69.51009 -17.5...</td>\n",
       "    </tr>\n",
       "    <tr>\n",
       "      <th>4</th>\n",
       "      <td>MULTIPOLYGON (((-69.51009 -17.50659, -69.63832...</td>\n",
       "    </tr>\n",
       "  </tbody>\n",
       "</table>\n",
       "</div>"
      ],
      "text/plain": [
       "                                            geometry\n",
       "0  MULTIPOLYGON (((117.70361 4.16341, 117.70361 4...\n",
       "1  MULTIPOLYGON (((117.70361 4.16341, 117.69711 4...\n",
       "2  MULTIPOLYGON (((-69.51009 -17.50659, -69.50611...\n",
       "3  POLYGON ((-69.51009 -17.50659, -69.51009 -17.5...\n",
       "4  MULTIPOLYGON (((-69.51009 -17.50659, -69.63832..."
      ]
     },
     "execution_count": 5,
     "metadata": {
      "tags": []
     },
     "output_type": "execute_result"
    }
   ],
   "source": [
    "data = gpd.read_file('/content/drive/My Drive/Colab Notebooks/countries.shp')\n"
   ]
  },
  {
   "cell_type": "code",
   "execution_count": 18,
   "metadata": {
    "colab": {
     "base_uri": "https://localhost:8080/",
     "height": 282
    },
    "executionInfo": {
     "elapsed": 1960,
     "status": "ok",
     "timestamp": 1611517572387,
     "user": {
      "displayName": "TheOceanAM",
      "photoUrl": "",
      "userId": "13000255940929104667"
     },
     "user_tz": -60
    },
    "id": "0ovS4Wj28xaU",
    "outputId": "b8d115ce-855e-43eb-9310-815715cb11cc"
   },
   "outputs": [
    {
     "data": {
      "text/html": [
       "<div>\n",
       "<style scoped>\n",
       "    .dataframe tbody tr th:only-of-type {\n",
       "        vertical-align: middle;\n",
       "    }\n",
       "\n",
       "    .dataframe tbody tr th {\n",
       "        vertical-align: top;\n",
       "    }\n",
       "\n",
       "    .dataframe thead th {\n",
       "        text-align: right;\n",
       "    }\n",
       "</style>\n",
       "<table border=\"1\" class=\"dataframe\">\n",
       "  <thead>\n",
       "    <tr style=\"text-align: right;\">\n",
       "      <th></th>\n",
       "      <th>boro_code</th>\n",
       "      <th>boro_name</th>\n",
       "      <th>shape_area</th>\n",
       "      <th>shape_leng</th>\n",
       "      <th>geometry</th>\n",
       "    </tr>\n",
       "  </thead>\n",
       "  <tbody>\n",
       "    <tr>\n",
       "      <th>0</th>\n",
       "      <td>1.0</td>\n",
       "      <td>Manhattan</td>\n",
       "      <td>6.366038e+08</td>\n",
       "      <td>361611.823950</td>\n",
       "      <td>MULTIPOLYGON (((-74.01093 40.68449, -74.01193 ...</td>\n",
       "    </tr>\n",
       "    <tr>\n",
       "      <th>1</th>\n",
       "      <td>2.0</td>\n",
       "      <td>Bronx</td>\n",
       "      <td>1.187245e+09</td>\n",
       "      <td>464650.051822</td>\n",
       "      <td>MULTIPOLYGON (((-73.89681 40.79581, -73.89694 ...</td>\n",
       "    </tr>\n",
       "    <tr>\n",
       "      <th>2</th>\n",
       "      <td>3.0</td>\n",
       "      <td>Brooklyn</td>\n",
       "      <td>1.934091e+09</td>\n",
       "      <td>729592.941749</td>\n",
       "      <td>MULTIPOLYGON (((-73.86706 40.58209, -73.86769 ...</td>\n",
       "    </tr>\n",
       "    <tr>\n",
       "      <th>3</th>\n",
       "      <td>4.0</td>\n",
       "      <td>Queens</td>\n",
       "      <td>3.044042e+09</td>\n",
       "      <td>900087.667215</td>\n",
       "      <td>MULTIPOLYGON (((-73.82645 40.59053, -73.82642 ...</td>\n",
       "    </tr>\n",
       "    <tr>\n",
       "      <th>4</th>\n",
       "      <td>5.0</td>\n",
       "      <td>Staten Island</td>\n",
       "      <td>1.623757e+09</td>\n",
       "      <td>325956.009000</td>\n",
       "      <td>MULTIPOLYGON (((-74.05051 40.56642, -74.05047 ...</td>\n",
       "    </tr>\n",
       "  </tbody>\n",
       "</table>\n",
       "</div>"
      ],
      "text/plain": [
       "   boro_code      boro_name    shape_area     shape_leng  \\\n",
       "0        1.0      Manhattan  6.366038e+08  361611.823950   \n",
       "1        2.0          Bronx  1.187245e+09  464650.051822   \n",
       "2        3.0       Brooklyn  1.934091e+09  729592.941749   \n",
       "3        4.0         Queens  3.044042e+09  900087.667215   \n",
       "4        5.0  Staten Island  1.623757e+09  325956.009000   \n",
       "\n",
       "                                            geometry  \n",
       "0  MULTIPOLYGON (((-74.01093 40.68449, -74.01193 ...  \n",
       "1  MULTIPOLYGON (((-73.89681 40.79581, -73.89694 ...  \n",
       "2  MULTIPOLYGON (((-73.86706 40.58209, -73.86769 ...  \n",
       "3  MULTIPOLYGON (((-73.82645 40.59053, -73.82642 ...  \n",
       "4  MULTIPOLYGON (((-74.05051 40.56642, -74.05047 ...  "
      ]
     },
     "execution_count": 18,
     "metadata": {},
     "output_type": "execute_result"
    }
   ],
   "source": [
    "ny = gpd.read_file('geo_export_fa767ac4-2c7d-4869-9133-8db4bfc30320.shp')\n",
    "\n",
    "crs= CRS(\"epsg:4326\")\n",
    "ny"
   ]
  },
  {
   "cell_type": "code",
   "execution_count": 10,
   "metadata": {
    "colab": {
     "base_uri": "https://localhost:8080/",
     "height": 745
    },
    "executionInfo": {
     "elapsed": 1712,
     "status": "ok",
     "timestamp": 1611501831047,
     "user": {
      "displayName": "TheOceanAM",
      "photoUrl": "",
      "userId": "13000255940929104667"
     },
     "user_tz": -60
    },
    "id": "OxG2xSHT_b2D",
    "outputId": "d73019f8-4eed-49f4-d7d2-05ce531b1b72"
   },
   "outputs": [
    {
     "data": {
      "text/html": [
       "<div>\n",
       "<style scoped>\n",
       "    .dataframe tbody tr th:only-of-type {\n",
       "        vertical-align: middle;\n",
       "    }\n",
       "\n",
       "    .dataframe tbody tr th {\n",
       "        vertical-align: top;\n",
       "    }\n",
       "\n",
       "    .dataframe thead th {\n",
       "        text-align: right;\n",
       "    }\n",
       "</style>\n",
       "<table border=\"1\" class=\"dataframe\">\n",
       "  <thead>\n",
       "    <tr style=\"text-align: right;\">\n",
       "      <th></th>\n",
       "      <th>latitude</th>\n",
       "      <th>longitude</th>\n",
       "    </tr>\n",
       "  </thead>\n",
       "  <tbody>\n",
       "    <tr>\n",
       "      <th>0</th>\n",
       "      <td>42.469059</td>\n",
       "      <td>-76.486687</td>\n",
       "    </tr>\n",
       "    <tr>\n",
       "      <th>1</th>\n",
       "      <td>43.222098</td>\n",
       "      <td>-75.421363</td>\n",
       "    </tr>\n",
       "    <tr>\n",
       "      <th>2</th>\n",
       "      <td>42.132595</td>\n",
       "      <td>-73.882650</td>\n",
       "    </tr>\n",
       "    <tr>\n",
       "      <th>3</th>\n",
       "      <td>42.825420</td>\n",
       "      <td>-78.595024</td>\n",
       "    </tr>\n",
       "    <tr>\n",
       "      <th>4</th>\n",
       "      <td>42.608073</td>\n",
       "      <td>-73.849243</td>\n",
       "    </tr>\n",
       "    <tr>\n",
       "      <th>...</th>\n",
       "      <td>...</td>\n",
       "      <td>...</td>\n",
       "    </tr>\n",
       "    <tr>\n",
       "      <th>995</th>\n",
       "      <td>42.158820</td>\n",
       "      <td>-76.856120</td>\n",
       "    </tr>\n",
       "    <tr>\n",
       "      <th>996</th>\n",
       "      <td>40.855696</td>\n",
       "      <td>-73.197832</td>\n",
       "    </tr>\n",
       "    <tr>\n",
       "      <th>997</th>\n",
       "      <td>43.154875</td>\n",
       "      <td>-75.965306</td>\n",
       "    </tr>\n",
       "    <tr>\n",
       "      <th>998</th>\n",
       "      <td>40.760421</td>\n",
       "      <td>-73.964418</td>\n",
       "    </tr>\n",
       "    <tr>\n",
       "      <th>999</th>\n",
       "      <td>40.846821</td>\n",
       "      <td>-73.834633</td>\n",
       "    </tr>\n",
       "  </tbody>\n",
       "</table>\n",
       "<p>1000 rows × 2 columns</p>\n",
       "</div>"
      ],
      "text/plain": [
       "      latitude  longitude\n",
       "0    42.469059 -76.486687\n",
       "1    43.222098 -75.421363\n",
       "2    42.132595 -73.882650\n",
       "3    42.825420 -78.595024\n",
       "4    42.608073 -73.849243\n",
       "..         ...        ...\n",
       "995  42.158820 -76.856120\n",
       "996  40.855696 -73.197832\n",
       "997  43.154875 -75.965306\n",
       "998  40.760421 -73.964418\n",
       "999  40.846821 -73.834633\n",
       "\n",
       "[1000 rows x 2 columns]"
      ]
     },
     "metadata": {},
     "output_type": "display_data"
    }
   ],
   "source": [
    "file = \"Electric_Vehicle_Charging_Stations_in_New_York.csv\"\n",
    "url = \"https://data.ny.gov/resource/7rrd-248n.json\"\n",
    "df = pd.read_json(url)\n",
    "\n",
    "df1= df[['latitude','longitude']]\n",
    "display(df1)"
   ]
  },
  {
   "cell_type": "code",
   "execution_count": 20,
   "metadata": {
    "colab": {
     "base_uri": "https://localhost:8080/",
     "height": 779
    },
    "executionInfo": {
     "elapsed": 1450,
     "status": "ok",
     "timestamp": 1611518060008,
     "user": {
      "displayName": "TheOceanAM",
      "photoUrl": "",
      "userId": "13000255940929104667"
     },
     "user_tz": -60
    },
    "id": "hIvsB8N3Z4Hu",
    "outputId": "10fd81c6-ebe2-4ef6-cad8-4bab1a32a7a3"
   },
   "outputs": [
    {
     "data": {
      "text/html": [
       "<div>\n",
       "<style scoped>\n",
       "    .dataframe tbody tr th:only-of-type {\n",
       "        vertical-align: middle;\n",
       "    }\n",
       "\n",
       "    .dataframe tbody tr th {\n",
       "        vertical-align: top;\n",
       "    }\n",
       "\n",
       "    .dataframe thead th {\n",
       "        text-align: right;\n",
       "    }\n",
       "</style>\n",
       "<table border=\"1\" class=\"dataframe\">\n",
       "  <thead>\n",
       "    <tr style=\"text-align: right;\">\n",
       "      <th></th>\n",
       "      <th>latitude</th>\n",
       "      <th>longitude</th>\n",
       "      <th>geometry</th>\n",
       "    </tr>\n",
       "  </thead>\n",
       "  <tbody>\n",
       "    <tr>\n",
       "      <th>0</th>\n",
       "      <td>42.469059</td>\n",
       "      <td>-76.486687</td>\n",
       "      <td>POINT (-76.48669 42.46906)</td>\n",
       "    </tr>\n",
       "    <tr>\n",
       "      <th>1</th>\n",
       "      <td>43.222098</td>\n",
       "      <td>-75.421363</td>\n",
       "      <td>POINT (-75.42136 43.22210)</td>\n",
       "    </tr>\n",
       "    <tr>\n",
       "      <th>2</th>\n",
       "      <td>42.132595</td>\n",
       "      <td>-73.882650</td>\n",
       "      <td>POINT (-73.88265 42.13260)</td>\n",
       "    </tr>\n",
       "    <tr>\n",
       "      <th>3</th>\n",
       "      <td>42.825420</td>\n",
       "      <td>-78.595024</td>\n",
       "      <td>POINT (-78.59502 42.82542)</td>\n",
       "    </tr>\n",
       "    <tr>\n",
       "      <th>4</th>\n",
       "      <td>42.608073</td>\n",
       "      <td>-73.849243</td>\n",
       "      <td>POINT (-73.84924 42.60807)</td>\n",
       "    </tr>\n",
       "    <tr>\n",
       "      <th>...</th>\n",
       "      <td>...</td>\n",
       "      <td>...</td>\n",
       "      <td>...</td>\n",
       "    </tr>\n",
       "    <tr>\n",
       "      <th>995</th>\n",
       "      <td>42.158820</td>\n",
       "      <td>-76.856120</td>\n",
       "      <td>POINT (-76.85612 42.15882)</td>\n",
       "    </tr>\n",
       "    <tr>\n",
       "      <th>996</th>\n",
       "      <td>40.855696</td>\n",
       "      <td>-73.197832</td>\n",
       "      <td>POINT (-73.19783 40.85570)</td>\n",
       "    </tr>\n",
       "    <tr>\n",
       "      <th>997</th>\n",
       "      <td>43.154875</td>\n",
       "      <td>-75.965306</td>\n",
       "      <td>POINT (-75.96531 43.15487)</td>\n",
       "    </tr>\n",
       "    <tr>\n",
       "      <th>998</th>\n",
       "      <td>40.760421</td>\n",
       "      <td>-73.964418</td>\n",
       "      <td>POINT (-73.96442 40.76042)</td>\n",
       "    </tr>\n",
       "    <tr>\n",
       "      <th>999</th>\n",
       "      <td>40.846821</td>\n",
       "      <td>-73.834633</td>\n",
       "      <td>POINT (-73.83463 40.84682)</td>\n",
       "    </tr>\n",
       "  </tbody>\n",
       "</table>\n",
       "<p>1000 rows × 3 columns</p>\n",
       "</div>"
      ],
      "text/plain": [
       "      latitude  longitude                    geometry\n",
       "0    42.469059 -76.486687  POINT (-76.48669 42.46906)\n",
       "1    43.222098 -75.421363  POINT (-75.42136 43.22210)\n",
       "2    42.132595 -73.882650  POINT (-73.88265 42.13260)\n",
       "3    42.825420 -78.595024  POINT (-78.59502 42.82542)\n",
       "4    42.608073 -73.849243  POINT (-73.84924 42.60807)\n",
       "..         ...        ...                         ...\n",
       "995  42.158820 -76.856120  POINT (-76.85612 42.15882)\n",
       "996  40.855696 -73.197832  POINT (-73.19783 40.85570)\n",
       "997  43.154875 -75.965306  POINT (-75.96531 43.15487)\n",
       "998  40.760421 -73.964418  POINT (-73.96442 40.76042)\n",
       "999  40.846821 -73.834633  POINT (-73.83463 40.84682)\n",
       "\n",
       "[1000 rows x 3 columns]"
      ]
     },
     "execution_count": 20,
     "metadata": {},
     "output_type": "execute_result"
    }
   ],
   "source": [
    "st = gpd.GeoDataFrame(df1, crs=crs,  geometry=[Point(xy) for xy in zip(df1[\"longitude\"], df1[\"latitude\"])])\n",
    "st\n"
   ]
  },
  {
   "cell_type": "code",
   "execution_count": 17,
   "metadata": {
    "colab": {
     "base_uri": "https://localhost:8080/"
    },
    "executionInfo": {
     "elapsed": 1004,
     "status": "ok",
     "timestamp": 1611501859888,
     "user": {
      "displayName": "TheOceanAM",
      "photoUrl": "",
      "userId": "13000255940929104667"
     },
     "user_tz": -60
    },
    "id": "Fz7Gmqxd_tCt",
    "outputId": "66de30f2-86da-4496-f7b5-1601a7d4dce0"
   },
   "outputs": [
    {
     "data": {
      "text/plain": [
       "0              POINT (76.486687 42.469059)\n",
       "1              POINT (75.421363 43.222098)\n",
       "2               POINT (73.88265 42.132595)\n",
       "3               POINT (78.595024 42.82542)\n",
       "4            POINT (73.8492426 42.6080728)\n",
       "                      ...                 \n",
       "995     POINT (76.85611999999999 42.15882)\n",
       "996          POINT (73.1978321 40.8556963)\n",
       "997    POINT (75.96530600000001 43.154875)\n",
       "998    POINT (73.96441800000001 40.760421)\n",
       "999          POINT (73.8346327 40.8468211)\n",
       "Name: coordinates, Length: 1000, dtype: object"
      ]
     },
     "execution_count": 17,
     "metadata": {
      "tags": []
     },
     "output_type": "execute_result"
    }
   ],
   "source": [
    "#df['coordinates'] = [Point(long, lat) for long, lat in zip(-df['longitude'], df['latitude'])]\n",
    "#df['coordinates']"
   ]
  },
  {
   "cell_type": "code",
   "execution_count": 24,
   "metadata": {
    "colab": {
     "base_uri": "https://localhost:8080/",
     "height": 265
    },
    "executionInfo": {
     "elapsed": 857,
     "status": "ok",
     "timestamp": 1611518279253,
     "user": {
      "displayName": "TheOceanAM",
      "photoUrl": "",
      "userId": "13000255940929104667"
     },
     "user_tz": -60
    },
    "id": "tIXuwFSeABWd",
    "outputId": "232a8971-1895-46e6-83b0-a69a3c2be7eb"
   },
   "outputs": [
    {
     "data": {
      "text/plain": [
       "(40.68, 40.825)"
      ]
     },
     "execution_count": 24,
     "metadata": {},
     "output_type": "execute_result"
    },
    {
     "data": {
      "image/png": "[encoded data removed]",
      "text/plain": [
       "<Figure size 1080x1080 with 1 Axes>"
      ]
     },
     "metadata": {},
     "output_type": "display_data"
    }
   ],
   "source": [
    "fig, ax = plt.subplots(figsize=(15,15))\n",
    "ny.plot(ax=ax, color='grey') # countries are in WGS84\n",
    "st.plot(ax=ax, color='red') \n",
    "\n",
    "plt.xlim(-74.03,-73.9)\n",
    "plt.ylim(40.68,40.825)\n"
   ]
  },
  {
   "cell_type": "code",
   "execution_count": null,
   "metadata": {},
   "outputs": [],
   "source": []
  }
 ],
 "metadata": {
  "colab": {
   "authorship_tag": "ABX9TyPbErQJsWvnn+Z4RrcQc/Ie",
   "collapsed_sections": [],
   "name": "Untitled1.ipynb",
   "provenance": []
  },
  "kernelspec": {
   "display_name": "Python 3",
   "language": "python",
   "name": "python3"
  }
 },
 "nbformat": 4,
 "nbformat_minor": 1
}
